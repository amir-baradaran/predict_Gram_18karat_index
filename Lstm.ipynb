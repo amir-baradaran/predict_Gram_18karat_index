{
  "nbformat": 4,
  "nbformat_minor": 0,
  "metadata": {
    "colab": {
      "provenance": [],
      "authorship_tag": "ABX9TyP75EMTSHyjz8jfnoAjIvBM",
      "include_colab_link": true
    },
    "kernelspec": {
      "name": "python3",
      "display_name": "Python 3"
    },
    "language_info": {
      "name": "python"
    },
    "gpuClass": "standard",
    "accelerator": "GPU"
  },
  "cells": [
    {
      "cell_type": "markdown",
      "metadata": {
        "id": "view-in-github",
        "colab_type": "text"
      },
      "source": [
        "<a href=\"https://colab.research.google.com/github/amir-baradaran/predict_Gram_18karat_index/blob/main/Lstm.ipynb\" target=\"_parent\"><img src=\"https://colab.research.google.com/assets/colab-badge.svg\" alt=\"Open In Colab\"/></a>"
      ]
    },
    {
      "cell_type": "code",
      "execution_count": 1,
      "metadata": {
        "id": "fYN3txPMVf64"
      },
      "outputs": [],
      "source": [
        "'''\n",
        "!pip install sentencepiece\n",
        "!pip install bs4\n",
        "!pip install requests\n",
        "!pip install transformers\n",
        "'''\n",
        "\n",
        "import matplotlib.pyplot as plt\n",
        "import math\n",
        "import numpy as np\n",
        "import pandas as pd\n",
        "from sklearn.preprocessing import MinMaxScaler\n",
        "from keras.models import Sequential\n",
        "from keras.layers import Dense,LSTM\n",
        "from bs4 import BeautifulSoup\n",
        "plt.style.use('fivethirtyeight')\n"
      ]
    },
    {
      "cell_type": "code",
      "source": [
        "#*************************LSTM*************************"
      ],
      "metadata": {
        "id": "iEsVN28W11hZ"
      },
      "execution_count": null,
      "outputs": []
    },
    {
      "cell_type": "code",
      "source": [
        "from google.colab import files\n",
        "uploaded=files.upload()"
      ],
      "metadata": {
        "colab": {
          "base_uri": "https://localhost:8080/",
          "height": 73
        },
        "id": "cODzfd3GmT9f",
        "outputId": "c5647211-50b8-4aa6-e241-7b7f394f1dc2"
      },
      "execution_count": 2,
      "outputs": [
        {
          "output_type": "display_data",
          "data": {
            "text/plain": [
              "<IPython.core.display.HTML object>"
            ],
            "text/html": [
              "\n",
              "     <input type=\"file\" id=\"files-2dd78476-42dd-4edb-b657-434ff2a5bdfa\" name=\"files[]\" multiple disabled\n",
              "        style=\"border:none\" />\n",
              "     <output id=\"result-2dd78476-42dd-4edb-b657-434ff2a5bdfa\">\n",
              "      Upload widget is only available when the cell has been executed in the\n",
              "      current browser session. Please rerun this cell to enable.\n",
              "      </output>\n",
              "      <script>// Copyright 2017 Google LLC\n",
              "//\n",
              "// Licensed under the Apache License, Version 2.0 (the \"License\");\n",
              "// you may not use this file except in compliance with the License.\n",
              "// You may obtain a copy of the License at\n",
              "//\n",
              "//      http://www.apache.org/licenses/LICENSE-2.0\n",
              "//\n",
              "// Unless required by applicable law or agreed to in writing, software\n",
              "// distributed under the License is distributed on an \"AS IS\" BASIS,\n",
              "// WITHOUT WARRANTIES OR CONDITIONS OF ANY KIND, either express or implied.\n",
              "// See the License for the specific language governing permissions and\n",
              "// limitations under the License.\n",
              "\n",
              "/**\n",
              " * @fileoverview Helpers for google.colab Python module.\n",
              " */\n",
              "(function(scope) {\n",
              "function span(text, styleAttributes = {}) {\n",
              "  const element = document.createElement('span');\n",
              "  element.textContent = text;\n",
              "  for (const key of Object.keys(styleAttributes)) {\n",
              "    element.style[key] = styleAttributes[key];\n",
              "  }\n",
              "  return element;\n",
              "}\n",
              "\n",
              "// Max number of bytes which will be uploaded at a time.\n",
              "const MAX_PAYLOAD_SIZE = 100 * 1024;\n",
              "\n",
              "function _uploadFiles(inputId, outputId) {\n",
              "  const steps = uploadFilesStep(inputId, outputId);\n",
              "  const outputElement = document.getElementById(outputId);\n",
              "  // Cache steps on the outputElement to make it available for the next call\n",
              "  // to uploadFilesContinue from Python.\n",
              "  outputElement.steps = steps;\n",
              "\n",
              "  return _uploadFilesContinue(outputId);\n",
              "}\n",
              "\n",
              "// This is roughly an async generator (not supported in the browser yet),\n",
              "// where there are multiple asynchronous steps and the Python side is going\n",
              "// to poll for completion of each step.\n",
              "// This uses a Promise to block the python side on completion of each step,\n",
              "// then passes the result of the previous step as the input to the next step.\n",
              "function _uploadFilesContinue(outputId) {\n",
              "  const outputElement = document.getElementById(outputId);\n",
              "  const steps = outputElement.steps;\n",
              "\n",
              "  const next = steps.next(outputElement.lastPromiseValue);\n",
              "  return Promise.resolve(next.value.promise).then((value) => {\n",
              "    // Cache the last promise value to make it available to the next\n",
              "    // step of the generator.\n",
              "    outputElement.lastPromiseValue = value;\n",
              "    return next.value.response;\n",
              "  });\n",
              "}\n",
              "\n",
              "/**\n",
              " * Generator function which is called between each async step of the upload\n",
              " * process.\n",
              " * @param {string} inputId Element ID of the input file picker element.\n",
              " * @param {string} outputId Element ID of the output display.\n",
              " * @return {!Iterable<!Object>} Iterable of next steps.\n",
              " */\n",
              "function* uploadFilesStep(inputId, outputId) {\n",
              "  const inputElement = document.getElementById(inputId);\n",
              "  inputElement.disabled = false;\n",
              "\n",
              "  const outputElement = document.getElementById(outputId);\n",
              "  outputElement.innerHTML = '';\n",
              "\n",
              "  const pickedPromise = new Promise((resolve) => {\n",
              "    inputElement.addEventListener('change', (e) => {\n",
              "      resolve(e.target.files);\n",
              "    });\n",
              "  });\n",
              "\n",
              "  const cancel = document.createElement('button');\n",
              "  inputElement.parentElement.appendChild(cancel);\n",
              "  cancel.textContent = 'Cancel upload';\n",
              "  const cancelPromise = new Promise((resolve) => {\n",
              "    cancel.onclick = () => {\n",
              "      resolve(null);\n",
              "    };\n",
              "  });\n",
              "\n",
              "  // Wait for the user to pick the files.\n",
              "  const files = yield {\n",
              "    promise: Promise.race([pickedPromise, cancelPromise]),\n",
              "    response: {\n",
              "      action: 'starting',\n",
              "    }\n",
              "  };\n",
              "\n",
              "  cancel.remove();\n",
              "\n",
              "  // Disable the input element since further picks are not allowed.\n",
              "  inputElement.disabled = true;\n",
              "\n",
              "  if (!files) {\n",
              "    return {\n",
              "      response: {\n",
              "        action: 'complete',\n",
              "      }\n",
              "    };\n",
              "  }\n",
              "\n",
              "  for (const file of files) {\n",
              "    const li = document.createElement('li');\n",
              "    li.append(span(file.name, {fontWeight: 'bold'}));\n",
              "    li.append(span(\n",
              "        `(${file.type || 'n/a'}) - ${file.size} bytes, ` +\n",
              "        `last modified: ${\n",
              "            file.lastModifiedDate ? file.lastModifiedDate.toLocaleDateString() :\n",
              "                                    'n/a'} - `));\n",
              "    const percent = span('0% done');\n",
              "    li.appendChild(percent);\n",
              "\n",
              "    outputElement.appendChild(li);\n",
              "\n",
              "    const fileDataPromise = new Promise((resolve) => {\n",
              "      const reader = new FileReader();\n",
              "      reader.onload = (e) => {\n",
              "        resolve(e.target.result);\n",
              "      };\n",
              "      reader.readAsArrayBuffer(file);\n",
              "    });\n",
              "    // Wait for the data to be ready.\n",
              "    let fileData = yield {\n",
              "      promise: fileDataPromise,\n",
              "      response: {\n",
              "        action: 'continue',\n",
              "      }\n",
              "    };\n",
              "\n",
              "    // Use a chunked sending to avoid message size limits. See b/62115660.\n",
              "    let position = 0;\n",
              "    do {\n",
              "      const length = Math.min(fileData.byteLength - position, MAX_PAYLOAD_SIZE);\n",
              "      const chunk = new Uint8Array(fileData, position, length);\n",
              "      position += length;\n",
              "\n",
              "      const base64 = btoa(String.fromCharCode.apply(null, chunk));\n",
              "      yield {\n",
              "        response: {\n",
              "          action: 'append',\n",
              "          file: file.name,\n",
              "          data: base64,\n",
              "        },\n",
              "      };\n",
              "\n",
              "      let percentDone = fileData.byteLength === 0 ?\n",
              "          100 :\n",
              "          Math.round((position / fileData.byteLength) * 100);\n",
              "      percent.textContent = `${percentDone}% done`;\n",
              "\n",
              "    } while (position < fileData.byteLength);\n",
              "  }\n",
              "\n",
              "  // All done.\n",
              "  yield {\n",
              "    response: {\n",
              "      action: 'complete',\n",
              "    }\n",
              "  };\n",
              "}\n",
              "\n",
              "scope.google = scope.google || {};\n",
              "scope.google.colab = scope.google.colab || {};\n",
              "scope.google.colab._files = {\n",
              "  _uploadFiles,\n",
              "  _uploadFilesContinue,\n",
              "};\n",
              "})(self);\n",
              "</script> "
            ]
          },
          "metadata": {}
        },
        {
          "output_type": "stream",
          "name": "stdout",
          "text": [
            "Saving all_data.csv to all_data.csv\n"
          ]
        }
      ]
    },
    {
      "cell_type": "code",
      "source": [
        "df=pd.read_csv('all_data.csv')\n",
        "df=df.set_index(pd.DatetimeIndex(df['Date'].values))\n",
        "df\n",
        "\n"
      ],
      "metadata": {
        "colab": {
          "base_uri": "https://localhost:8080/",
          "height": 423
        },
        "id": "-ZoQut0ZWvZ_",
        "outputId": "9909cce3-9f8a-4e6a-e3b6-ea0a849e25d7"
      },
      "execution_count": 3,
      "outputs": [
        {
          "output_type": "execute_result",
          "data": {
            "text/plain": [
              "                  Name       Date      Open      High       Low     Close  \\\n",
              "2013-04-16  Gram18Ayar  4/16/2013   1246600   1251200   1230400   1246600   \n",
              "2013-04-17  Gram18Ayar  4/17/2013   1244300   1248900   1237400   1246600   \n",
              "2013-04-20  Gram18Ayar  4/20/2013   1253500   1261600   1250100   1253500   \n",
              "2013-04-21  Gram18Ayar  4/21/2013   1254700   1272000   1254200   1272000   \n",
              "2013-04-22  Gram18Ayar  4/22/2013   1278900   1306600   1275500   1289300   \n",
              "...                ...        ...       ...       ...       ...       ...   \n",
              "2023-03-12  Gram18Ayar  3/12/2023  20661200  21342200  19691600  19968600   \n",
              "2023-03-13  Gram18Ayar  3/13/2023  20845800  21873100  20845800  21700000   \n",
              "2023-03-14  Gram18Ayar  3/14/2023  22000100  23177400  22000100  22715700   \n",
              "2023-03-15  Gram18Ayar  3/15/2023  23108200  23223600  22484900  23165900   \n",
              "2023-03-18  Gram18Ayar  3/18/2023  23916100  24377800  23846900  24377800   \n",
              "\n",
              "           Period Unnamed: 7  Unnamed: 8  \n",
              "2013-04-16      D    92/1/27         NaN  \n",
              "2013-04-17      D        NaN         NaN  \n",
              "2013-04-20      D        NaN         NaN  \n",
              "2013-04-21      D     92/2/1         NaN  \n",
              "2013-04-22      D        NaN         NaN  \n",
              "...           ...        ...         ...  \n",
              "2023-03-12      D        NaN         NaN  \n",
              "2023-03-13      D        NaN         NaN  \n",
              "2023-03-14      D        NaN         NaN  \n",
              "2023-03-15      D        NaN         NaN  \n",
              "2023-03-18      D        NaN         NaN  \n",
              "\n",
              "[2387 rows x 9 columns]"
            ],
            "text/html": [
              "\n",
              "  <div id=\"df-85a7a7e8-c0b6-49a2-be33-e8ba91fbbb9f\">\n",
              "    <div class=\"colab-df-container\">\n",
              "      <div>\n",
              "<style scoped>\n",
              "    .dataframe tbody tr th:only-of-type {\n",
              "        vertical-align: middle;\n",
              "    }\n",
              "\n",
              "    .dataframe tbody tr th {\n",
              "        vertical-align: top;\n",
              "    }\n",
              "\n",
              "    .dataframe thead th {\n",
              "        text-align: right;\n",
              "    }\n",
              "</style>\n",
              "<table border=\"1\" class=\"dataframe\">\n",
              "  <thead>\n",
              "    <tr style=\"text-align: right;\">\n",
              "      <th></th>\n",
              "      <th>Name</th>\n",
              "      <th>Date</th>\n",
              "      <th>Open</th>\n",
              "      <th>High</th>\n",
              "      <th>Low</th>\n",
              "      <th>Close</th>\n",
              "      <th>Period</th>\n",
              "      <th>Unnamed: 7</th>\n",
              "      <th>Unnamed: 8</th>\n",
              "    </tr>\n",
              "  </thead>\n",
              "  <tbody>\n",
              "    <tr>\n",
              "      <th>2013-04-16</th>\n",
              "      <td>Gram18Ayar</td>\n",
              "      <td>4/16/2013</td>\n",
              "      <td>1246600</td>\n",
              "      <td>1251200</td>\n",
              "      <td>1230400</td>\n",
              "      <td>1246600</td>\n",
              "      <td>D</td>\n",
              "      <td>92/1/27</td>\n",
              "      <td>NaN</td>\n",
              "    </tr>\n",
              "    <tr>\n",
              "      <th>2013-04-17</th>\n",
              "      <td>Gram18Ayar</td>\n",
              "      <td>4/17/2013</td>\n",
              "      <td>1244300</td>\n",
              "      <td>1248900</td>\n",
              "      <td>1237400</td>\n",
              "      <td>1246600</td>\n",
              "      <td>D</td>\n",
              "      <td>NaN</td>\n",
              "      <td>NaN</td>\n",
              "    </tr>\n",
              "    <tr>\n",
              "      <th>2013-04-20</th>\n",
              "      <td>Gram18Ayar</td>\n",
              "      <td>4/20/2013</td>\n",
              "      <td>1253500</td>\n",
              "      <td>1261600</td>\n",
              "      <td>1250100</td>\n",
              "      <td>1253500</td>\n",
              "      <td>D</td>\n",
              "      <td>NaN</td>\n",
              "      <td>NaN</td>\n",
              "    </tr>\n",
              "    <tr>\n",
              "      <th>2013-04-21</th>\n",
              "      <td>Gram18Ayar</td>\n",
              "      <td>4/21/2013</td>\n",
              "      <td>1254700</td>\n",
              "      <td>1272000</td>\n",
              "      <td>1254200</td>\n",
              "      <td>1272000</td>\n",
              "      <td>D</td>\n",
              "      <td>92/2/1</td>\n",
              "      <td>NaN</td>\n",
              "    </tr>\n",
              "    <tr>\n",
              "      <th>2013-04-22</th>\n",
              "      <td>Gram18Ayar</td>\n",
              "      <td>4/22/2013</td>\n",
              "      <td>1278900</td>\n",
              "      <td>1306600</td>\n",
              "      <td>1275500</td>\n",
              "      <td>1289300</td>\n",
              "      <td>D</td>\n",
              "      <td>NaN</td>\n",
              "      <td>NaN</td>\n",
              "    </tr>\n",
              "    <tr>\n",
              "      <th>...</th>\n",
              "      <td>...</td>\n",
              "      <td>...</td>\n",
              "      <td>...</td>\n",
              "      <td>...</td>\n",
              "      <td>...</td>\n",
              "      <td>...</td>\n",
              "      <td>...</td>\n",
              "      <td>...</td>\n",
              "      <td>...</td>\n",
              "    </tr>\n",
              "    <tr>\n",
              "      <th>2023-03-12</th>\n",
              "      <td>Gram18Ayar</td>\n",
              "      <td>3/12/2023</td>\n",
              "      <td>20661200</td>\n",
              "      <td>21342200</td>\n",
              "      <td>19691600</td>\n",
              "      <td>19968600</td>\n",
              "      <td>D</td>\n",
              "      <td>NaN</td>\n",
              "      <td>NaN</td>\n",
              "    </tr>\n",
              "    <tr>\n",
              "      <th>2023-03-13</th>\n",
              "      <td>Gram18Ayar</td>\n",
              "      <td>3/13/2023</td>\n",
              "      <td>20845800</td>\n",
              "      <td>21873100</td>\n",
              "      <td>20845800</td>\n",
              "      <td>21700000</td>\n",
              "      <td>D</td>\n",
              "      <td>NaN</td>\n",
              "      <td>NaN</td>\n",
              "    </tr>\n",
              "    <tr>\n",
              "      <th>2023-03-14</th>\n",
              "      <td>Gram18Ayar</td>\n",
              "      <td>3/14/2023</td>\n",
              "      <td>22000100</td>\n",
              "      <td>23177400</td>\n",
              "      <td>22000100</td>\n",
              "      <td>22715700</td>\n",
              "      <td>D</td>\n",
              "      <td>NaN</td>\n",
              "      <td>NaN</td>\n",
              "    </tr>\n",
              "    <tr>\n",
              "      <th>2023-03-15</th>\n",
              "      <td>Gram18Ayar</td>\n",
              "      <td>3/15/2023</td>\n",
              "      <td>23108200</td>\n",
              "      <td>23223600</td>\n",
              "      <td>22484900</td>\n",
              "      <td>23165900</td>\n",
              "      <td>D</td>\n",
              "      <td>NaN</td>\n",
              "      <td>NaN</td>\n",
              "    </tr>\n",
              "    <tr>\n",
              "      <th>2023-03-18</th>\n",
              "      <td>Gram18Ayar</td>\n",
              "      <td>3/18/2023</td>\n",
              "      <td>23916100</td>\n",
              "      <td>24377800</td>\n",
              "      <td>23846900</td>\n",
              "      <td>24377800</td>\n",
              "      <td>D</td>\n",
              "      <td>NaN</td>\n",
              "      <td>NaN</td>\n",
              "    </tr>\n",
              "  </tbody>\n",
              "</table>\n",
              "<p>2387 rows × 9 columns</p>\n",
              "</div>\n",
              "      <button class=\"colab-df-convert\" onclick=\"convertToInteractive('df-85a7a7e8-c0b6-49a2-be33-e8ba91fbbb9f')\"\n",
              "              title=\"Convert this dataframe to an interactive table.\"\n",
              "              style=\"display:none;\">\n",
              "        \n",
              "  <svg xmlns=\"http://www.w3.org/2000/svg\" height=\"24px\"viewBox=\"0 0 24 24\"\n",
              "       width=\"24px\">\n",
              "    <path d=\"M0 0h24v24H0V0z\" fill=\"none\"/>\n",
              "    <path d=\"M18.56 5.44l.94 2.06.94-2.06 2.06-.94-2.06-.94-.94-2.06-.94 2.06-2.06.94zm-11 1L8.5 8.5l.94-2.06 2.06-.94-2.06-.94L8.5 2.5l-.94 2.06-2.06.94zm10 10l.94 2.06.94-2.06 2.06-.94-2.06-.94-.94-2.06-.94 2.06-2.06.94z\"/><path d=\"M17.41 7.96l-1.37-1.37c-.4-.4-.92-.59-1.43-.59-.52 0-1.04.2-1.43.59L10.3 9.45l-7.72 7.72c-.78.78-.78 2.05 0 2.83L4 21.41c.39.39.9.59 1.41.59.51 0 1.02-.2 1.41-.59l7.78-7.78 2.81-2.81c.8-.78.8-2.07 0-2.86zM5.41 20L4 18.59l7.72-7.72 1.47 1.35L5.41 20z\"/>\n",
              "  </svg>\n",
              "      </button>\n",
              "      \n",
              "  <style>\n",
              "    .colab-df-container {\n",
              "      display:flex;\n",
              "      flex-wrap:wrap;\n",
              "      gap: 12px;\n",
              "    }\n",
              "\n",
              "    .colab-df-convert {\n",
              "      background-color: #E8F0FE;\n",
              "      border: none;\n",
              "      border-radius: 50%;\n",
              "      cursor: pointer;\n",
              "      display: none;\n",
              "      fill: #1967D2;\n",
              "      height: 32px;\n",
              "      padding: 0 0 0 0;\n",
              "      width: 32px;\n",
              "    }\n",
              "\n",
              "    .colab-df-convert:hover {\n",
              "      background-color: #E2EBFA;\n",
              "      box-shadow: 0px 1px 2px rgba(60, 64, 67, 0.3), 0px 1px 3px 1px rgba(60, 64, 67, 0.15);\n",
              "      fill: #174EA6;\n",
              "    }\n",
              "\n",
              "    [theme=dark] .colab-df-convert {\n",
              "      background-color: #3B4455;\n",
              "      fill: #D2E3FC;\n",
              "    }\n",
              "\n",
              "    [theme=dark] .colab-df-convert:hover {\n",
              "      background-color: #434B5C;\n",
              "      box-shadow: 0px 1px 3px 1px rgba(0, 0, 0, 0.15);\n",
              "      filter: drop-shadow(0px 1px 2px rgba(0, 0, 0, 0.3));\n",
              "      fill: #FFFFFF;\n",
              "    }\n",
              "  </style>\n",
              "\n",
              "      <script>\n",
              "        const buttonEl =\n",
              "          document.querySelector('#df-85a7a7e8-c0b6-49a2-be33-e8ba91fbbb9f button.colab-df-convert');\n",
              "        buttonEl.style.display =\n",
              "          google.colab.kernel.accessAllowed ? 'block' : 'none';\n",
              "\n",
              "        async function convertToInteractive(key) {\n",
              "          const element = document.querySelector('#df-85a7a7e8-c0b6-49a2-be33-e8ba91fbbb9f');\n",
              "          const dataTable =\n",
              "            await google.colab.kernel.invokeFunction('convertToInteractive',\n",
              "                                                     [key], {});\n",
              "          if (!dataTable) return;\n",
              "\n",
              "          const docLinkHtml = 'Like what you see? Visit the ' +\n",
              "            '<a target=\"_blank\" href=https://colab.research.google.com/notebooks/data_table.ipynb>data table notebook</a>'\n",
              "            + ' to learn more about interactive tables.';\n",
              "          element.innerHTML = '';\n",
              "          dataTable['output_type'] = 'display_data';\n",
              "          await google.colab.output.renderOutput(dataTable, element);\n",
              "          const docLink = document.createElement('div');\n",
              "          docLink.innerHTML = docLinkHtml;\n",
              "          element.appendChild(docLink);\n",
              "        }\n",
              "      </script>\n",
              "    </div>\n",
              "  </div>\n",
              "  "
            ]
          },
          "metadata": {},
          "execution_count": 3
        }
      ]
    },
    {
      "cell_type": "code",
      "source": [
        "data=df.filter(['Close'])\n",
        "dataset=data.values\n",
        "training_data_len=math.ceil(len(dataset)*0.8)\n",
        "scaler=MinMaxScaler(feature_range=(0,1))\n",
        "scaled_data=scaler.fit_transform(dataset)\n"
      ],
      "metadata": {
        "id": "layMwuCaW6AP"
      },
      "execution_count": 4,
      "outputs": []
    },
    {
      "cell_type": "code",
      "source": [
        "training_data=scaled_data[0:training_data_len , :]"
      ],
      "metadata": {
        "id": "wSnJotBxW_04"
      },
      "execution_count": 5,
      "outputs": []
    },
    {
      "cell_type": "code",
      "source": [
        "xtrain=[]\n",
        "ytrain=[]\n",
        "n=150"
      ],
      "metadata": {
        "id": "DQUCeWVoXAeh"
      },
      "execution_count": 6,
      "outputs": []
    },
    {
      "cell_type": "code",
      "source": [
        "for i in range(n,len(training_data)):\n",
        "    xtrain.append(training_data[i-n:i , 0])\n",
        "    ytrain.append(training_data[i,0])"
      ],
      "metadata": {
        "id": "WlWR_ZU2XFxY"
      },
      "execution_count": 7,
      "outputs": []
    },
    {
      "cell_type": "code",
      "source": [
        "xtrain , ytrain = np.array(xtrain),np.array(ytrain)"
      ],
      "metadata": {
        "id": "JBzS2mhVXGxY"
      },
      "execution_count": 8,
      "outputs": []
    },
    {
      "cell_type": "code",
      "source": [
        "xtrain=np.reshape(xtrain,(xtrain.shape[0],xtrain.shape[1],1))\n",
        "xtrain.shape"
      ],
      "metadata": {
        "colab": {
          "base_uri": "https://localhost:8080/"
        },
        "id": "xfGQ3G9yXJhg",
        "outputId": "c718bfcc-30f9-4275-ad8d-fc3a6f921cf4"
      },
      "execution_count": 9,
      "outputs": [
        {
          "output_type": "execute_result",
          "data": {
            "text/plain": [
              "(1760, 150, 1)"
            ]
          },
          "metadata": {},
          "execution_count": 9
        }
      ]
    },
    {
      "cell_type": "code",
      "source": [
        "model=Sequential()\n",
        "model.add(LSTM(50,return_sequences=True,input_shape=(xtrain.shape[1],1)))\n",
        "model.add(LSTM(50,return_sequences=False))\n",
        "model.add(Dense(25))\n",
        "model.add(Dense(1))"
      ],
      "metadata": {
        "id": "KGwTPhQGXRdn"
      },
      "execution_count": 10,
      "outputs": []
    },
    {
      "cell_type": "code",
      "source": [
        "model.compile(optimizer='adam',loss='mean_squared_error')\n",
        "model.fit(xtrain,ytrain,batch_size=1,epochs=1)"
      ],
      "metadata": {
        "colab": {
          "base_uri": "https://localhost:8080/"
        },
        "id": "41ZkfQs9XR9n",
        "outputId": "c50d4eb8-b1fa-4368-faf9-74a5a2ccbd44"
      },
      "execution_count": 11,
      "outputs": [
        {
          "output_type": "stream",
          "name": "stdout",
          "text": [
            "1760/1760 [==============================] - 134s 74ms/step - loss: 6.7514e-04\n"
          ]
        },
        {
          "output_type": "execute_result",
          "data": {
            "text/plain": [
              "<keras.callbacks.History at 0x7fe062234fa0>"
            ]
          },
          "metadata": {},
          "execution_count": 11
        }
      ]
    },
    {
      "cell_type": "code",
      "source": [
        "test_data=scaled_data[training_data_len - n : , :]\n",
        "xtest=[]\n",
        "ytest=dataset[training_data_len: , :]\n",
        "for i in range(n,len(test_data)):\n",
        "    xtest.append(test_data[i-n:i,0])  "
      ],
      "metadata": {
        "id": "dW33oHlEXUiC"
      },
      "execution_count": 12,
      "outputs": []
    },
    {
      "cell_type": "code",
      "source": [
        "xtest=np.array(xtest)\n",
        "xtest=np.reshape(xtest,(xtest.shape[0],xtest.shape[1],1))"
      ],
      "metadata": {
        "id": "jR-psCo0XWzP"
      },
      "execution_count": 13,
      "outputs": []
    },
    {
      "cell_type": "code",
      "source": [
        "prediction=model.predict(xtest)\n",
        "prediction=scaler.inverse_transform(prediction)\n",
        "rmse =np.sqrt(np.mean(((prediction- ytest)**2)))\n",
        "print(rmse)"
      ],
      "metadata": {
        "colab": {
          "base_uri": "https://localhost:8080/"
        },
        "id": "2izsxf5HXY-K",
        "outputId": "78b814f1-b617-45b1-eb0c-76936a4afc18"
      },
      "execution_count": 14,
      "outputs": [
        {
          "output_type": "stream",
          "name": "stdout",
          "text": [
            "15/15 [==============================] - 2s 40ms/step\n",
            "1645217.924710441\n"
          ]
        }
      ]
    },
    {
      "cell_type": "code",
      "source": [
        "train=data[:training_data_len]\n",
        "valid=data[training_data_len:]\n",
        "valid['prediction']=prediction"
      ],
      "metadata": {
        "colab": {
          "base_uri": "https://localhost:8080/"
        },
        "id": "UDrScjniXbwg",
        "outputId": "8f2c0533-ccca-4955-c04c-528d4d144f73"
      },
      "execution_count": 15,
      "outputs": [
        {
          "output_type": "stream",
          "name": "stderr",
          "text": [
            "<ipython-input-15-345babb7f3ad>:3: SettingWithCopyWarning: \n",
            "A value is trying to be set on a copy of a slice from a DataFrame.\n",
            "Try using .loc[row_indexer,col_indexer] = value instead\n",
            "\n",
            "See the caveats in the documentation: https://pandas.pydata.org/pandas-docs/stable/user_guide/indexing.html#returning-a-view-versus-a-copy\n",
            "  valid['prediction']=prediction\n"
          ]
        }
      ]
    },
    {
      "cell_type": "code",
      "source": [
        "plt.figure(figsize=(16,8))\n",
        "plt.title('ETH PRICE PREDICTOR')\n",
        "plt.xlabel('Date')\n",
        "plt.ylabel('Price')\n",
        "plt.plot(train['Close'])\n",
        "plt.plot(valid[['Close','prediction']])\n",
        "plt.legend(['Train','Value','Prediction'])\n",
        "plt.show()"
      ],
      "metadata": {
        "colab": {
          "base_uri": "https://localhost:8080/",
          "height": 558
        },
        "id": "1XXAGkliXeaC",
        "outputId": "c66ba8b0-fb02-4d83-fb88-807739030906"
      },
      "execution_count": 16,
      "outputs": [
        {
          "output_type": "display_data",
          "data": {
            "text/plain": [
              "<Figure size 1152x576 with 1 Axes>"
            ],
            "image/png": "[encoded data removed]"
          },
          "metadata": {}
        }
      ]
    },
    {
      "cell_type": "code",
      "source": [
        "forecast_range = 1\n",
        "new_df = df.filter(['Close'])"
      ],
      "metadata": {
        "id": "hbgmw9CFXsm6"
      },
      "execution_count": 17,
      "outputs": []
    },
    {
      "cell_type": "code",
      "source": [
        "new_df[-n:].values"
      ],
      "metadata": {
        "colab": {
          "base_uri": "https://localhost:8080/"
        },
        "id": "83su3TKkXwJY",
        "outputId": "12e807fd-233d-47c8-816e-5715206f2561"
      },
      "execution_count": 18,
      "outputs": [
        {
          "output_type": "execute_result",
          "data": {
            "text/plain": [
              "array([[13550000],\n",
              "       [13676000],\n",
              "       [13725000],\n",
              "       [13559000],\n",
              "       [13272000],\n",
              "       [13282000],\n",
              "       [13005000],\n",
              "       [13028000],\n",
              "       [12845000],\n",
              "       [11968000],\n",
              "       [12361000],\n",
              "       [12337000],\n",
              "       [12511000],\n",
              "       [12485000],\n",
              "       [12730000],\n",
              "       [12561000],\n",
              "       [12647000],\n",
              "       [12654000],\n",
              "       [12691000],\n",
              "       [12695000],\n",
              "       [12834000],\n",
              "       [12730000],\n",
              "       [12762000],\n",
              "       [12758000],\n",
              "       [12850000],\n",
              "       [12989000],\n",
              "       [13259000],\n",
              "       [13379000],\n",
              "       [13252000],\n",
              "       [13092000],\n",
              "       [13069000],\n",
              "       [13065000],\n",
              "       [13212000],\n",
              "       [13109000],\n",
              "       [13113000],\n",
              "       [13173000],\n",
              "       [13743000],\n",
              "       [13767000],\n",
              "       [13928000],\n",
              "       [13986000],\n",
              "       [13755000],\n",
              "       [13501000],\n",
              "       [13538000],\n",
              "       [13598000],\n",
              "       [13614000],\n",
              "       [13457000],\n",
              "       [13550000],\n",
              "       [13492000],\n",
              "       [13450000],\n",
              "       [13404000],\n",
              "       [13543000],\n",
              "       [13420000],\n",
              "       [13369000],\n",
              "       [13483000],\n",
              "       [13616000],\n",
              "       [13473000],\n",
              "       [13561000],\n",
              "       [13605000],\n",
              "       [13748000],\n",
              "       [13965000],\n",
              "       [14621000],\n",
              "       [14801000],\n",
              "       [14861000],\n",
              "       [14745000],\n",
              "       [14667000],\n",
              "       [14815000],\n",
              "       [14870000],\n",
              "       [15089000],\n",
              "       [15205000],\n",
              "       [15147000],\n",
              "       [15013000],\n",
              "       [14919000],\n",
              "       [14916000],\n",
              "       [14997000],\n",
              "       [14955000],\n",
              "       [15297000],\n",
              "       [15383000],\n",
              "       [15286000],\n",
              "       [15276000],\n",
              "       [15544000],\n",
              "       [15736000],\n",
              "       [15948000],\n",
              "       [15807000],\n",
              "       [15747000],\n",
              "       [15764000],\n",
              "       [16258000],\n",
              "       [16394000],\n",
              "       [16724000],\n",
              "       [16978000],\n",
              "       [16752000],\n",
              "       [17564000],\n",
              "       [17421000],\n",
              "       [17664000],\n",
              "       [17417000],\n",
              "       [17694000],\n",
              "       [18333000],\n",
              "       [18460000],\n",
              "       [18783000],\n",
              "       [19926000],\n",
              "       [17971000],\n",
              "       [18552000],\n",
              "       [18497000],\n",
              "       [17952000],\n",
              "       [18056000],\n",
              "       [18968000],\n",
              "       [18991000],\n",
              "       [18846000],\n",
              "       [18878000],\n",
              "       [18917000],\n",
              "       [19300000],\n",
              "       [19418000],\n",
              "       [19914000],\n",
              "       [20272000],\n",
              "       [20619000],\n",
              "       [20840000],\n",
              "       [20838000],\n",
              "       [20365000],\n",
              "       [20626000],\n",
              "       [20965000],\n",
              "       [21369000],\n",
              "       [21127000],\n",
              "       [20702000],\n",
              "       [21415000],\n",
              "       [20882000],\n",
              "       [20690000],\n",
              "       [20681000],\n",
              "       [20880000],\n",
              "       [21519000],\n",
              "       [21198000],\n",
              "       [21424000],\n",
              "       [21669000],\n",
              "       [22803000],\n",
              "       [23438000],\n",
              "       [23128000],\n",
              "       [24008000],\n",
              "       [24728000],\n",
              "       [27729000],\n",
              "       [27766000],\n",
              "       [26143850],\n",
              "       [25081900],\n",
              "       [25151200],\n",
              "       [23442900],\n",
              "       [22704200],\n",
              "       [23200500],\n",
              "       [20707300],\n",
              "       [19968600],\n",
              "       [21700000],\n",
              "       [22715700],\n",
              "       [23165900],\n",
              "       [24377800]])"
            ]
          },
          "metadata": {},
          "execution_count": 18
        }
      ]
    },
    {
      "cell_type": "code",
      "source": [
        "pred_df = pd.DataFrame()\n",
        "pred_df['Date'] = pd.date_range(start = df.Date.iloc[-1] , periods = forecast_range+1 , closed = 'right')\n",
        "\n",
        "pred_df =pred_df.set_index(pd.DatetimeIndex(pred_df['Date'].values))"
      ],
      "metadata": {
        "id": "OaTFBHESX0_q",
        "colab": {
          "base_uri": "https://localhost:8080/"
        },
        "outputId": "41a4ab14-fa7a-4d75-b67a-38d24552b1cb"
      },
      "execution_count": 19,
      "outputs": [
        {
          "output_type": "stream",
          "name": "stderr",
          "text": [
            "<ipython-input-19-0fdf7f96294e>:2: FutureWarning: Argument `closed` is deprecated in favor of `inclusive`.\n",
            "  pred_df['Date'] = pd.date_range(start = df.Date.iloc[-1] , periods = forecast_range+1 , closed = 'right')\n"
          ]
        }
      ]
    },
    {
      "cell_type": "code",
      "source": [
        "\n",
        "pred_df"
      ],
      "metadata": {
        "colab": {
          "base_uri": "https://localhost:8080/",
          "height": 80
        },
        "id": "cCPVci46X1lb",
        "outputId": "c68c9aa5-3d5f-4e53-88a3-f97ba42e40f5"
      },
      "execution_count": 20,
      "outputs": [
        {
          "output_type": "execute_result",
          "data": {
            "text/plain": [
              "                 Date\n",
              "2023-03-19 2023-03-19"
            ],
            "text/html": [
              "\n",
              "  <div id=\"df-ab1373dc-7549-4895-96fd-780966e8ecee\">\n",
              "    <div class=\"colab-df-container\">\n",
              "      <div>\n",
              "<style scoped>\n",
              "    .dataframe tbody tr th:only-of-type {\n",
              "        vertical-align: middle;\n",
              "    }\n",
              "\n",
              "    .dataframe tbody tr th {\n",
              "        vertical-align: top;\n",
              "    }\n",
              "\n",
              "    .dataframe thead th {\n",
              "        text-align: right;\n",
              "    }\n",
              "</style>\n",
              "<table border=\"1\" class=\"dataframe\">\n",
              "  <thead>\n",
              "    <tr style=\"text-align: right;\">\n",
              "      <th></th>\n",
              "      <th>Date</th>\n",
              "    </tr>\n",
              "  </thead>\n",
              "  <tbody>\n",
              "    <tr>\n",
              "      <th>2023-03-19</th>\n",
              "      <td>2023-03-19</td>\n",
              "    </tr>\n",
              "  </tbody>\n",
              "</table>\n",
              "</div>\n",
              "      <button class=\"colab-df-convert\" onclick=\"convertToInteractive('df-ab1373dc-7549-4895-96fd-780966e8ecee')\"\n",
              "              title=\"Convert this dataframe to an interactive table.\"\n",
              "              style=\"display:none;\">\n",
              "        \n",
              "  <svg xmlns=\"http://www.w3.org/2000/svg\" height=\"24px\"viewBox=\"0 0 24 24\"\n",
              "       width=\"24px\">\n",
              "    <path d=\"M0 0h24v24H0V0z\" fill=\"none\"/>\n",
              "    <path d=\"M18.56 5.44l.94 2.06.94-2.06 2.06-.94-2.06-.94-.94-2.06-.94 2.06-2.06.94zm-11 1L8.5 8.5l.94-2.06 2.06-.94-2.06-.94L8.5 2.5l-.94 2.06-2.06.94zm10 10l.94 2.06.94-2.06 2.06-.94-2.06-.94-.94-2.06-.94 2.06-2.06.94z\"/><path d=\"M17.41 7.96l-1.37-1.37c-.4-.4-.92-.59-1.43-.59-.52 0-1.04.2-1.43.59L10.3 9.45l-7.72 7.72c-.78.78-.78 2.05 0 2.83L4 21.41c.39.39.9.59 1.41.59.51 0 1.02-.2 1.41-.59l7.78-7.78 2.81-2.81c.8-.78.8-2.07 0-2.86zM5.41 20L4 18.59l7.72-7.72 1.47 1.35L5.41 20z\"/>\n",
              "  </svg>\n",
              "      </button>\n",
              "      \n",
              "  <style>\n",
              "    .colab-df-container {\n",
              "      display:flex;\n",
              "      flex-wrap:wrap;\n",
              "      gap: 12px;\n",
              "    }\n",
              "\n",
              "    .colab-df-convert {\n",
              "      background-color: #E8F0FE;\n",
              "      border: none;\n",
              "      border-radius: 50%;\n",
              "      cursor: pointer;\n",
              "      display: none;\n",
              "      fill: #1967D2;\n",
              "      height: 32px;\n",
              "      padding: 0 0 0 0;\n",
              "      width: 32px;\n",
              "    }\n",
              "\n",
              "    .colab-df-convert:hover {\n",
              "      background-color: #E2EBFA;\n",
              "      box-shadow: 0px 1px 2px rgba(60, 64, 67, 0.3), 0px 1px 3px 1px rgba(60, 64, 67, 0.15);\n",
              "      fill: #174EA6;\n",
              "    }\n",
              "\n",
              "    [theme=dark] .colab-df-convert {\n",
              "      background-color: #3B4455;\n",
              "      fill: #D2E3FC;\n",
              "    }\n",
              "\n",
              "    [theme=dark] .colab-df-convert:hover {\n",
              "      background-color: #434B5C;\n",
              "      box-shadow: 0px 1px 3px 1px rgba(0, 0, 0, 0.15);\n",
              "      filter: drop-shadow(0px 1px 2px rgba(0, 0, 0, 0.3));\n",
              "      fill: #FFFFFF;\n",
              "    }\n",
              "  </style>\n",
              "\n",
              "      <script>\n",
              "        const buttonEl =\n",
              "          document.querySelector('#df-ab1373dc-7549-4895-96fd-780966e8ecee button.colab-df-convert');\n",
              "        buttonEl.style.display =\n",
              "          google.colab.kernel.accessAllowed ? 'block' : 'none';\n",
              "\n",
              "        async function convertToInteractive(key) {\n",
              "          const element = document.querySelector('#df-ab1373dc-7549-4895-96fd-780966e8ecee');\n",
              "          const dataTable =\n",
              "            await google.colab.kernel.invokeFunction('convertToInteractive',\n",
              "                                                     [key], {});\n",
              "          if (!dataTable) return;\n",
              "\n",
              "          const docLinkHtml = 'Like what you see? Visit the ' +\n",
              "            '<a target=\"_blank\" href=https://colab.research.google.com/notebooks/data_table.ipynb>data table notebook</a>'\n",
              "            + ' to learn more about interactive tables.';\n",
              "          element.innerHTML = '';\n",
              "          dataTable['output_type'] = 'display_data';\n",
              "          await google.colab.output.renderOutput(dataTable, element);\n",
              "          const docLink = document.createElement('div');\n",
              "          docLink.innerHTML = docLinkHtml;\n",
              "          element.appendChild(docLink);\n",
              "        }\n",
              "      </script>\n",
              "    </div>\n",
              "  </div>\n",
              "  "
            ]
          },
          "metadata": {},
          "execution_count": 20
        }
      ]
    },
    {
      "cell_type": "code",
      "source": [
        "predictiondata = []"
      ],
      "metadata": {
        "id": "a8XoURZcX4M_"
      },
      "execution_count": 21,
      "outputs": []
    },
    {
      "cell_type": "code",
      "source": [
        "for i in range(0, forecast_range):\n",
        "    last_values = new_df[-n:].values\n",
        "    last_values_scaled = scaler.transform(last_values)\n",
        "    X_input = []\n",
        "    X_input.append(last_values_scaled)\n",
        "    X_input = np.array(X_input)\n",
        "    X_test = np.reshape(X_input, (X_input.shape[0], X_input.shape[1], 1))\n",
        "    pred_value = model.predict(X_input)\n",
        "    pred_value_unscaled = scaler.inverse_transform(pred_value)\n",
        "    dfindex = pred_df.iloc[[i]].index \n",
        "    new_df = new_df.append(pd.DataFrame({\"Close\": pred_value_unscaled[0,0]}, index=dfindex))\n",
        "    predictiondata.append(pred_value_unscaled[0,0])"
      ],
      "metadata": {
        "id": "zwtQZi_zX6Mg",
        "colab": {
          "base_uri": "https://localhost:8080/"
        },
        "outputId": "9af9bc72-3c20-49f1-c3c0-cb2a5beefbee"
      },
      "execution_count": 22,
      "outputs": [
        {
          "output_type": "stream",
          "name": "stdout",
          "text": [
            "1/1 [==============================] - 0s 48ms/step\n"
          ]
        },
        {
          "output_type": "stream",
          "name": "stderr",
          "text": [
            "<ipython-input-22-a435facee083>:11: FutureWarning: The frame.append method is deprecated and will be removed from pandas in a future version. Use pandas.concat instead.\n",
            "  new_df = new_df.append(pd.DataFrame({\"Close\": pred_value_unscaled[0,0]}, index=dfindex))\n"
          ]
        }
      ]
    },
    {
      "cell_type": "code",
      "source": [
        "new_df.tail(1)"
      ],
      "metadata": {
        "colab": {
          "base_uri": "https://localhost:8080/",
          "height": 80
        },
        "id": "718vc3nOX85Y",
        "outputId": "7c9628b2-8f90-4727-954b-831995629ac9"
      },
      "execution_count": 24,
      "outputs": [
        {
          "output_type": "execute_result",
          "data": {
            "text/plain": [
              "                 Close\n",
              "2023-03-19  19090074.0"
            ],
            "text/html": [
              "\n",
              "  <div id=\"df-79d0e145-47e7-4c79-8ab3-cd239a78f34e\">\n",
              "    <div class=\"colab-df-container\">\n",
              "      <div>\n",
              "<style scoped>\n",
              "    .dataframe tbody tr th:only-of-type {\n",
              "        vertical-align: middle;\n",
              "    }\n",
              "\n",
              "    .dataframe tbody tr th {\n",
              "        vertical-align: top;\n",
              "    }\n",
              "\n",
              "    .dataframe thead th {\n",
              "        text-align: right;\n",
              "    }\n",
              "</style>\n",
              "<table border=\"1\" class=\"dataframe\">\n",
              "  <thead>\n",
              "    <tr style=\"text-align: right;\">\n",
              "      <th></th>\n",
              "      <th>Close</th>\n",
              "    </tr>\n",
              "  </thead>\n",
              "  <tbody>\n",
              "    <tr>\n",
              "      <th>2023-03-19</th>\n",
              "      <td>19090074.0</td>\n",
              "    </tr>\n",
              "  </tbody>\n",
              "</table>\n",
              "</div>\n",
              "      <button class=\"colab-df-convert\" onclick=\"convertToInteractive('df-79d0e145-47e7-4c79-8ab3-cd239a78f34e')\"\n",
              "              title=\"Convert this dataframe to an interactive table.\"\n",
              "              style=\"display:none;\">\n",
              "        \n",
              "  <svg xmlns=\"http://www.w3.org/2000/svg\" height=\"24px\"viewBox=\"0 0 24 24\"\n",
              "       width=\"24px\">\n",
              "    <path d=\"M0 0h24v24H0V0z\" fill=\"none\"/>\n",
              "    <path d=\"M18.56 5.44l.94 2.06.94-2.06 2.06-.94-2.06-.94-.94-2.06-.94 2.06-2.06.94zm-11 1L8.5 8.5l.94-2.06 2.06-.94-2.06-.94L8.5 2.5l-.94 2.06-2.06.94zm10 10l.94 2.06.94-2.06 2.06-.94-2.06-.94-.94-2.06-.94 2.06-2.06.94z\"/><path d=\"M17.41 7.96l-1.37-1.37c-.4-.4-.92-.59-1.43-.59-.52 0-1.04.2-1.43.59L10.3 9.45l-7.72 7.72c-.78.78-.78 2.05 0 2.83L4 21.41c.39.39.9.59 1.41.59.51 0 1.02-.2 1.41-.59l7.78-7.78 2.81-2.81c.8-.78.8-2.07 0-2.86zM5.41 20L4 18.59l7.72-7.72 1.47 1.35L5.41 20z\"/>\n",
              "  </svg>\n",
              "      </button>\n",
              "      \n",
              "  <style>\n",
              "    .colab-df-container {\n",
              "      display:flex;\n",
              "      flex-wrap:wrap;\n",
              "      gap: 12px;\n",
              "    }\n",
              "\n",
              "    .colab-df-convert {\n",
              "      background-color: #E8F0FE;\n",
              "      border: none;\n",
              "      border-radius: 50%;\n",
              "      cursor: pointer;\n",
              "      display: none;\n",
              "      fill: #1967D2;\n",
              "      height: 32px;\n",
              "      padding: 0 0 0 0;\n",
              "      width: 32px;\n",
              "    }\n",
              "\n",
              "    .colab-df-convert:hover {\n",
              "      background-color: #E2EBFA;\n",
              "      box-shadow: 0px 1px 2px rgba(60, 64, 67, 0.3), 0px 1px 3px 1px rgba(60, 64, 67, 0.15);\n",
              "      fill: #174EA6;\n",
              "    }\n",
              "\n",
              "    [theme=dark] .colab-df-convert {\n",
              "      background-color: #3B4455;\n",
              "      fill: #D2E3FC;\n",
              "    }\n",
              "\n",
              "    [theme=dark] .colab-df-convert:hover {\n",
              "      background-color: #434B5C;\n",
              "      box-shadow: 0px 1px 3px 1px rgba(0, 0, 0, 0.15);\n",
              "      filter: drop-shadow(0px 1px 2px rgba(0, 0, 0, 0.3));\n",
              "      fill: #FFFFFF;\n",
              "    }\n",
              "  </style>\n",
              "\n",
              "      <script>\n",
              "        const buttonEl =\n",
              "          document.querySelector('#df-79d0e145-47e7-4c79-8ab3-cd239a78f34e button.colab-df-convert');\n",
              "        buttonEl.style.display =\n",
              "          google.colab.kernel.accessAllowed ? 'block' : 'none';\n",
              "\n",
              "        async function convertToInteractive(key) {\n",
              "          const element = document.querySelector('#df-79d0e145-47e7-4c79-8ab3-cd239a78f34e');\n",
              "          const dataTable =\n",
              "            await google.colab.kernel.invokeFunction('convertToInteractive',\n",
              "                                                     [key], {});\n",
              "          if (!dataTable) return;\n",
              "\n",
              "          const docLinkHtml = 'Like what you see? Visit the ' +\n",
              "            '<a target=\"_blank\" href=https://colab.research.google.com/notebooks/data_table.ipynb>data table notebook</a>'\n",
              "            + ' to learn more about interactive tables.';\n",
              "          element.innerHTML = '';\n",
              "          dataTable['output_type'] = 'display_data';\n",
              "          await google.colab.output.renderOutput(dataTable, element);\n",
              "          const docLink = document.createElement('div');\n",
              "          docLink.innerHTML = docLinkHtml;\n",
              "          element.appendChild(docLink);\n",
              "        }\n",
              "      </script>\n",
              "    </div>\n",
              "  </div>\n",
              "  "
            ]
          },
          "metadata": {},
          "execution_count": 24
        }
      ]
    }
  ]
}